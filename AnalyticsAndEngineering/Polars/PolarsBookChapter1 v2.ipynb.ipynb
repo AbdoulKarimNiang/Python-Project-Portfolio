{
 "cells": [
  {
   "cell_type": "markdown",
   "id": "f09e4b32-4637-4c1d-8929-27388fa86137",
   "metadata": {},
   "source": [
    "# Polars Project"
   ]
  },
  {
   "cell_type": "code",
   "execution_count": 26,
   "id": "05281049-9ff2-4830-9cf7-79e824d06a7b",
   "metadata": {},
   "outputs": [
    {
     "name": "stdout",
     "output_type": "stream",
     "text": [
      "Requirement already satisfied: polars in c:\\users\\karim\\anaconda3\\lib\\site-packages (0.20.16)\n",
      "Note: you may need to restart the kernel to use updated packages.\n"
     ]
    }
   ],
   "source": [
    "pip install polars"
   ]
  },
  {
   "cell_type": "code",
   "execution_count": 3,
   "id": "3fb9cd9f-3755-4a1a-9e64-1ffea71203c9",
   "metadata": {},
   "outputs": [],
   "source": [
    "import polars as pl"
   ]
  },
  {
   "cell_type": "code",
   "execution_count": 3,
   "id": "bd0f488d-fb74-42fe-8558-d5c9a376f674",
   "metadata": {
    "scrolled": true
   },
   "outputs": [
    {
     "name": "stdout",
     "output_type": "stream",
     "text": [
      "['__call__', '__class__', '__delattr__', '__dict__', '__dir__', '__doc__', '__eq__', '__format__', '__ge__', '__getattr__', '__getattribute__', '__getstate__', '__gt__', '__hash__', '__init__', '__init_subclass__', '__le__', '__lt__', '__module__', '__ne__', '__new__', '__reduce__', '__reduce_ex__', '__repr__', '__setattr__', '__sizeof__', '__str__', '__subclasshook__', '__weakref__']\n"
     ]
    }
   ],
   "source": [
    "print(dir(pl.col))"
   ]
  },
  {
   "cell_type": "code",
   "execution_count": 12,
   "id": "6023c81a-6155-4478-9896-f9c080de1f99",
   "metadata": {},
   "outputs": [],
   "source": [
    "df_ops =  set(i for i in dir(pl.DataFrame()) if not i.startswith(\"_\"))"
   ]
  },
  {
   "cell_type": "code",
   "execution_count": 15,
   "id": "df089078-3d0e-4b17-86dd-97141e72babb",
   "metadata": {},
   "outputs": [],
   "source": [
    "lazy_ops =  set(i for i in dir(pl.LazyFrame()) if not i.startswith(\"_\"))"
   ]
  },
  {
   "cell_type": "code",
   "execution_count": 20,
   "id": "e2d5996b-8c08-408b-b59d-392bbd5c2545",
   "metadata": {},
   "outputs": [
    {
     "name": "stdout",
     "output_type": "stream",
     "text": [
      "{'hstack', 'to_series', 'upsample', 'write_delta', 'min_horizontal', 'n_unique', 'to_struct', 'insert_at_idx', 'height', 'frame_equal', 'write_json', 'equals', 'mean_horizontal', 'replace_column', 'to_pandas', 'write_csv', 'write_parquet', 'extend', 'max_horizontal', 'to_arrow', 'is_unique', 'write_ipc', 'vstack', 'drop_in_place', 'apply', 'row', 'write_ndjson', 'rows', 'is_empty', 'shrink_to_fit', 'hash_rows', 'sum_horizontal', 'to_dict', 'find_idx_by_name', 'corr', 'to_dicts', 'glimpse', 'get_column', 'estimated_size', 'is_duplicated', 'iter_columns', 'rows_by_key', 'unstack', 'pivot', 'get_columns', 'replace', 'get_column_index', 'partition_by', 'iter_slices', 'insert_column', 'shape', 'rechunk', 'iter_rows', 'to_dummies', 'map_rows', 'fold', 'product', 'write_database', 'item', 'to_numpy', 'write_excel', 'flags', 'write_ipc_stream', 'transpose', 'replace_at_idx', 'plot', 'sample', 'n_chunks', 'to_init_repr', 'write_avro'}\n"
     ]
    }
   ],
   "source": [
    "print(df_ops - lazy_ops)"
   ]
  },
  {
   "cell_type": "code",
   "execution_count": 19,
   "id": "65437963-c01c-40ed-b701-9294575b87c1",
   "metadata": {},
   "outputs": [
    {
     "name": "stdout",
     "output_type": "stream",
     "text": [
      "['approx_n_unique', 'bottom_k', 'cast', 'clear', 'clone', 'columns', 'count', 'describe', 'drop', 'drop_nulls', 'dtypes', 'explode', 'fill_nan', 'fill_null', 'filter', 'gather_every', 'group_by', 'group_by_dynamic', 'group_by_rolling', 'groupby', 'groupby_dynamic', 'groupby_rolling', 'head', 'interpolate', 'join', 'join_asof', 'lazy', 'limit', 'max', 'mean', 'median', 'melt', 'merge_sorted', 'min', 'null_count', 'pipe', 'quantile', 'rename', 'reverse', 'rolling', 'schema', 'select', 'select_seq', 'set_sorted', 'shift', 'shift_and_fill', 'slice', 'sort', 'std', 'sum', 'tail', 'take_every', 'top_k', 'unique', 'unnest', 'update', 'var', 'width', 'with_columns', 'with_columns_seq', 'with_row_count', 'with_row_index']\n"
     ]
    }
   ],
   "source": [
    "print(sorted(df_ops & lazy_ops))"
   ]
  },
  {
   "cell_type": "code",
   "execution_count": 21,
   "id": "f6bba3ff-2d09-40f5-863d-7b72fd37f99a",
   "metadata": {},
   "outputs": [],
   "source": [
    "col = pl.col(\"sample\")"
   ]
  },
  {
   "cell_type": "code",
   "execution_count": 22,
   "id": "a6447bc4-ab37-4a21-aef3-671c79076bd6",
   "metadata": {},
   "outputs": [
    {
     "name": "stdout",
     "output_type": "stream",
     "text": [
      "{'value_counts', 'hist', '__neg__', 'n_unique', 'rank', 'arg_max', '__reduce__', '__or__', '__ne__', '_from_pyexpr', 'mod', 'arctanh', 'degrees', '__class__', '__doc__', '__repr__', 'is_first_distinct', 'cot', 'cumcount', 'eq_missing', 'exp', 'qcut', 'max', 'drop_nulls', 'rolling_quantile', '__and__', 'name', 'peak_max', 'pipe', '__mod__', 'is_infinite', 'unique', 'shrink_dtype', 'map_elements', 'rolling_map', 'append', 'is_between', 'tail', 'backward_fill', 'rle_id', 'arg_true', 'ewm_std', 'is_not_null', 'nan_max', '__init_subclass__', 'sqrt', '__sub__', 'is_first', 'mul', 'sin', 'over', 'is_nan', 'map', 'cum_min', 'pow', 'clip_max', 'interpolate', '__rand__', 'is_null', 'ewm_mean', '__add__', 'tanh', 'keep_name', '__reduce_ex__', 'std', 'lower_bound', 'shuffle', 'fill_null', '__truediv__', 'gt', 'clip_min', 'mode', 'unique_counts', 'xor', 'log', '__le__', 'is_not', 'ge', 'ne', 'rolling_min', 'sort', 'rolling_var', 'ewm_var', 'add', 'last', 'log1p', 'null_count', 'eq', 'extend_constant', '__getstate__', 'cummin', 'all', 'neg', '__init__', '__abs__', 'dt', '__rfloordiv__', 'set_sorted', '__ge__', 'arccosh', 'cum_max', 'rolling_sum', 'round_sig_figs', 'le', 'mean', 'sub', 'cumsum', '__bool__', 'alias', '_accessors', 'entropy', 'hash', 'implode', 'median', '__lt__', 'replace', 'lt', 'arg_min', '__setstate__', 'arctan', '__annotations__', '__format__', 'nan_min', 'count', '__floordiv__', 'cum_count', 'slice', 'search_sorted', '__array_ufunc__', 'exclude', 'head', '__mul__', 'is_last', '__module__', 'sign', 'filter', 'take', 'var', 'reinterpret', 'pct_change', 'upper_bound', 'round', 'where', 'meta', 'rolling_std', 'cbrt', '_map_batches_wrapper', 'or_', '__dir__', 'rle', 'struct', 'radians', '__new__', '_pyexpr', 'map_batches', '__weakref__', 'agg_groups', 'approx_n_unique', 'min', 'inspect', 'rolling_max', '__getattribute__', 'rolling_apply', 'is_in', 'drop_nans', 'cast', 'fill_nan', '__sizeof__', '__radd__', 'to_physical', '__pow__', 'rolling_skew', 'cum_prod', 'cummax', '__setattr__', 'sum', 'arccos', 'str', '__rmul__', 'cumprod', '__str__', 'len', '__delattr__', 'diff', '_repr_html_', 'get', 'arr', 'shift_and_fill', 'skew', '__rtruediv__', 'bottom_k', 'top_k', 'sample', 'ne_missing', 'clip', 'rolling', '__hash__', 'arg_unique', 'cum_sum', 'cumulative_eval', 'first', 'ceil', 'arcsinh', 'kurtosis', 'gather', 'cat', 'reshape', '__invert__', '__ror__', '__rpow__', 'is_finite', 'rolling_mean', '__dict__', 'cos', 'is_unique', 'is_last_distinct', '__xor__', 'bin', 'map_alias', 'sinh', 'dot', 'sort_by', 'arg_sort', 'apply', '__rxor__', 'explode', 'deserialize', 'abs', 'take_every', '__rsub__', 'quantile', 'peak_min', 'floordiv', 'forward_fill', 'is_duplicated', '__eq__', 'is_not_nan', 'and_', 'cut', 'flatten', 'prefix', 'register_plugin', 'repeat_by', 'tan', 'floor', 'list', '__subclasshook__', '__rmod__', '__pos__', 'arcsin', 'gather_every', 'map_dict', 'rechunk', '_register_plugin', 'product', 'limit', 'from_json', 'truediv', 'any', '__gt__', 'not_', 'log10', 'rolling_median', 'cosh', 'shift', 'reverse', 'suffix'}\n"
     ]
    }
   ],
   "source": [
    "print(set(i for i in dir(col)))"
   ]
  },
  {
   "cell_type": "code",
   "execution_count": 24,
   "id": "b56dda08-0fff-4337-aeee-d76efe07597d",
   "metadata": {},
   "outputs": [
    {
     "data": {
      "text/html": [
       "col(\"sample\").strict_cast(Int32).fill_null([col(\"sample\").mean()]).clip_max([100]).sample([10]).mean()"
      ],
      "text/plain": [
       "<Expr ['col(\"sample\").strict_cast(Int3…'] at 0x25B57D59150>"
      ]
     },
     "execution_count": 24,
     "metadata": {},
     "output_type": "execute_result"
    }
   ],
   "source": [
    "(\n",
    "    col\n",
    "    .cast(pl.Int32)\n",
    "    .fill_null(col.mean())\n",
    "    .clip(upper_bound=100)\n",
    "    .sample(10)\n",
    "    .mean()\n",
    ")"
   ]
  },
  {
   "cell_type": "markdown",
   "id": "b91ebf5e-e107-4efc-a7ff-777700bbb3dc",
   "metadata": {},
   "source": [
    "## Data Extraction"
   ]
  },
  {
   "cell_type": "code",
   "execution_count": 5,
   "id": "867bb333-9ce1-4593-8036-1fe4b5b7ae73",
   "metadata": {},
   "outputs": [],
   "source": [
    "#You can download the data at the following URL\n",
    "# https://www.fueleconomy.gov/feg/download.shtml\n",
    "import zipfile"
   ]
  },
  {
   "cell_type": "code",
   "execution_count": 6,
   "id": "cba2e9e0-438e-4943-b400-f686c62fdc67",
   "metadata": {},
   "outputs": [],
   "source": [
    "# Extracting the data\n",
    "zip_path = r\"C:\\Users\\karim\\Downloads\\vehicles.csv.zip\"\n",
    "path = r\"C:\\Users\\karim\\Downloads\"\n",
    "with zipfile.ZipFile(zip_path) as z:\n",
    "    z.extractall(path)\n",
    "    \n",
    "file_path = r\"C:\\Users\\karim\\Downloads\\vehicles.csv\"\n",
    "\n",
    "df = pl.read_csv(file_path, null_values= [\"NA\"])"
   ]
  },
  {
   "cell_type": "code",
   "execution_count": 51,
   "id": "41764c8c-4512-4b2a-943a-74565b8f2937",
   "metadata": {},
   "outputs": [
    {
     "name": "stdout",
     "output_type": "stream",
     "text": [
      "shape: (47_321, 84)\n",
      "┌───────────┬────────────┬───────────┬───────────┬───┬───────────┬──────────┬─────────┬──────────┐\n",
      "│ barrels08 ┆ barrelsA08 ┆ charge120 ┆ charge240 ┆ … ┆ startStop ┆ phevCity ┆ phevHwy ┆ phevComb │\n",
      "│ ---       ┆ ---        ┆ ---       ┆ ---       ┆   ┆ ---       ┆ ---      ┆ ---     ┆ ---      │\n",
      "│ f64       ┆ f64        ┆ f64       ┆ f64       ┆   ┆ str       ┆ i64      ┆ i64     ┆ i64      │\n",
      "╞═══════════╪════════════╪═══════════╪═══════════╪═══╪═══════════╪══════════╪═════════╪══════════╡\n",
      "│ 14.167143 ┆ 0.0        ┆ 0.0       ┆ 0.0       ┆ … ┆ null      ┆ 0        ┆ 0       ┆ 0        │\n",
      "│ 27.046364 ┆ 0.0        ┆ 0.0       ┆ 0.0       ┆ … ┆ null      ┆ 0        ┆ 0       ┆ 0        │\n",
      "│ 11.018889 ┆ 0.0        ┆ 0.0       ┆ 0.0       ┆ … ┆ null      ┆ 0        ┆ 0       ┆ 0        │\n",
      "│ 27.046364 ┆ 0.0        ┆ 0.0       ┆ 0.0       ┆ … ┆ null      ┆ 0        ┆ 0       ┆ 0        │\n",
      "│ 15.658421 ┆ 0.0        ┆ 0.0       ┆ 0.0       ┆ … ┆ null      ┆ 0        ┆ 0       ┆ 0        │\n",
      "│ …         ┆ …          ┆ …         ┆ …         ┆ … ┆ …         ┆ …        ┆ …       ┆ …        │\n",
      "│ 13.523182 ┆ 0.0        ┆ 0.0       ┆ 0.0       ┆ … ┆ null      ┆ 0        ┆ 0       ┆ 0        │\n",
      "│ 12.935217 ┆ 0.0        ┆ 0.0       ┆ 0.0       ┆ … ┆ null      ┆ 0        ┆ 0       ┆ 0        │\n",
      "│ 14.167143 ┆ 0.0        ┆ 0.0       ┆ 0.0       ┆ … ┆ null      ┆ 0        ┆ 0       ┆ 0        │\n",
      "│ 14.167143 ┆ 0.0        ┆ 0.0       ┆ 0.0       ┆ … ┆ null      ┆ 0        ┆ 0       ┆ 0        │\n",
      "│ 16.528333 ┆ 0.0        ┆ 0.0       ┆ 0.0       ┆ … ┆ null      ┆ 0        ┆ 0       ┆ 0        │\n",
      "└───────────┴────────────┴───────────┴───────────┴───┴───────────┴──────────┴─────────┴──────────┘\n"
     ]
    }
   ],
   "source": [
    "print(df)"
   ]
  },
  {
   "cell_type": "code",
   "execution_count": 55,
   "id": "9ba2df68-bbde-4b8f-8280-526e8d1a3711",
   "metadata": {},
   "outputs": [],
   "source": [
    "# For performance is better using scan_scsv\n",
    "lazy = pl.scan_csv(file_path, null_values=[\"NA\"])"
   ]
  },
  {
   "cell_type": "code",
   "execution_count": 56,
   "id": "7763b269-7aac-4a12-84f2-406d7aed9233",
   "metadata": {},
   "outputs": [
    {
     "data": {
      "text/html": [
       "<i>naive plan: (run <b>LazyFrame.explain(optimized=True)</b> to see the optimized plan)</i>\n",
       "    <p></p>\n",
       "    <div><p></p>  Csv SCAN C:\\Users\\karim\\Downloads\\vehicles.csv<p></p>  PROJECT */84 COLUMNS</div>"
      ],
      "text/plain": [
       "<LazyFrame [84 cols, {\"barrels08\": Float64 … \"phevComb\": Int64}] at 0x25B587A2690>"
      ]
     },
     "execution_count": 56,
     "metadata": {},
     "output_type": "execute_result"
    }
   ],
   "source": [
    "lazy"
   ]
  },
  {
   "cell_type": "code",
   "execution_count": 60,
   "id": "81909184-b7b8-46a0-99cd-9f5951ff00ff",
   "metadata": {},
   "outputs": [
    {
     "name": "stdout",
     "output_type": "stream",
     "text": [
      "naive plan: (run LazyFrame.explain(optimized=True) to see the optimized plan)\n",
      "\n",
      " SELECT [col(\"year\"), col(\"make\"), col(\"model\")] FROM\n",
      "  FILTER [([([(col(\"year\")) >= (1990)]) & (col(\"year\"))]) <= (2000)] FROM\n",
      "\n",
      "\n",
      "    Csv SCAN C:\\Users\\karim\\Downloads\\vehicles.csv\n",
      "    PROJECT */84 COLUMNS\n"
     ]
    }
   ],
   "source": [
    "# Get the naive query plan for a simple query\n",
    "\n",
    "print(\n",
    "    (\n",
    "      lazy\n",
    "      .filter((pl.col(\"year\") >= 1990) & pl.col(\"year\") <= 2000)\n",
    "      .select([\"year\", \"make\", \"model\"])\n",
    ")\n",
    "     )\n",
    "    \n"
   ]
  },
  {
   "cell_type": "code",
   "execution_count": 61,
   "id": "20f7a0d1-3177-4d08-882e-5217728406ef",
   "metadata": {},
   "outputs": [
    {
     "name": "stdout",
     "output_type": "stream",
     "text": [
      "FAST_PROJECT: [year, make, model]\n",
      "\n",
      "    Csv SCAN C:\\Users\\karim\\Downloads\\vehicles.csv\n",
      "    PROJECT 3/84 COLUMNS\n",
      "    SELECTION: [([([(col(\"year\")) >= (1990)].cast(Int64)) & (col(\"year\"))].cast(Int32)) <= (2000)]\n"
     ]
    }
   ],
   "source": [
    "# Get the optimized pan\n",
    "print(\n",
    "    (\n",
    "      lazy\n",
    "      .filter((pl.col(\"year\") >= 1990) & pl.col(\"year\") <= 2000)\n",
    "      .select([\"year\", \"make\", \"model\"])\n",
    ".explain()\n",
    "    )\n",
    "     )"
   ]
  },
  {
   "cell_type": "markdown",
   "id": "80e61fbd-5354-4ada-ab01-f759f4e354e6",
   "metadata": {},
   "source": [
    "## Fixing Data types"
   ]
  },
  {
   "cell_type": "markdown",
   "id": "0361fac8-bf15-4115-8587-9673a20a5ba5",
   "metadata": {},
   "source": [
    "### Integers Convertions"
   ]
  },
  {
   "cell_type": "code",
   "execution_count": 66,
   "id": "e79e6307-a6ed-423d-9c42-7eee67b4b9bc",
   "metadata": {},
   "outputs": [
    {
     "name": "stdout",
     "output_type": "stream",
     "text": [
      "[Float64, Float64, Float64, Float64, Int64, Float64, Int64, Float64, Float64, Float64, Float64, Int64, Int64, Float64, Float64, Int64, Float64, Int64, Float64, Float64, Float64, Float64, Int64, Float64, String, Int64, String, Int64, Int64, Int64, String, String, Int64, Int64, Int64, Float64, Int64, Float64, Float64, Float64, Float64, Int64, Int64, Int64, Int64, Int64, String, String, String, Boolean, Int64, Int64, Int64, Float64, Float64, Float64, Float64, String, Float64, Float64, Float64, Float64, String, Int64, Int64, String, String, String, String, String, String, String, String, String, String, String, Float64, String, String, String, String, Int64, Int64, Int64]\n"
     ]
    }
   ],
   "source": [
    "# Get only the data types\n",
    "print(df.dtypes)"
   ]
  },
  {
   "cell_type": "code",
   "execution_count": 67,
   "id": "258583de-4904-4eaf-b0dc-737895b7fec8",
   "metadata": {},
   "outputs": [
    {
     "name": "stdout",
     "output_type": "stream",
     "text": [
      "OrderedDict([('barrels08', Float64), ('barrelsA08', Float64), ('charge120', Float64), ('charge240', Float64), ('city08', Int64), ('city08U', Float64), ('cityA08', Int64), ('cityA08U', Float64), ('cityCD', Float64), ('cityE', Float64), ('cityUF', Float64), ('co2', Int64), ('co2A', Int64), ('co2TailpipeAGpm', Float64), ('co2TailpipeGpm', Float64), ('comb08', Int64), ('comb08U', Float64), ('combA08', Int64), ('combA08U', Float64), ('combE', Float64), ('combinedCD', Float64), ('combinedUF', Float64), ('cylinders', Int64), ('displ', Float64), ('drive', String), ('engId', Int64), ('eng_dscr', String), ('feScore', Int64), ('fuelCost08', Int64), ('fuelCostA08', Int64), ('fuelType', String), ('fuelType1', String), ('ghgScore', Int64), ('ghgScoreA', Int64), ('highway08', Int64), ('highway08U', Float64), ('highwayA08', Int64), ('highwayA08U', Float64), ('highwayCD', Float64), ('highwayE', Float64), ('highwayUF', Float64), ('hlv', Int64), ('hpv', Int64), ('id', Int64), ('lv2', Int64), ('lv4', Int64), ('make', String), ('model', String), ('mpgData', String), ('phevBlended', Boolean), ('pv2', Int64), ('pv4', Int64), ('range', Int64), ('rangeCity', Float64), ('rangeCityA', Float64), ('rangeHwy', Float64), ('rangeHwyA', Float64), ('trany', String), ('UCity', Float64), ('UCityA', Float64), ('UHighway', Float64), ('UHighwayA', Float64), ('VClass', String), ('year', Int64), ('youSaveSpend', Int64), ('baseModel', String), ('guzzler', String), ('trans_dscr', String), ('tCharger', String), ('sCharger', String), ('atvType', String), ('fuelType2', String), ('rangeA', String), ('evMotor', String), ('mfrCode', String), ('c240Dscr', String), ('charge240b', Float64), ('c240bDscr', String), ('createdOn', String), ('modifiedOn', String), ('startStop', String), ('phevCity', Int64), ('phevHwy', Int64), ('phevComb', Int64)])\n"
     ]
    }
   ],
   "source": [
    "# Get the complete schema\n",
    "print(df.schema)"
   ]
  },
  {
   "cell_type": "code",
   "execution_count": 88,
   "id": "2a53841a-cc80-4bca-818c-b6c09ae85b0f",
   "metadata": {},
   "outputs": [],
   "source": [
    "# This are the columns we are gonna using\n",
    "cols = ['year', 'make', 'model', 'displ', 'cylinders', 'trany', 'drive', 'VClass', 'fuelType', 'barrels08', 'city08', 'highway08','createdOn']"
   ]
  },
  {
   "cell_type": "code",
   "execution_count": 90,
   "id": "32489492-1013-4fd6-ad2f-cc5fbbad2832",
   "metadata": {},
   "outputs": [
    {
     "name": "stdout",
     "output_type": "stream",
     "text": [
      "shape: (47_321, 13)\n",
      "┌──────┬────────────┬────────────────┬───────┬───┬───────────┬────────┬───────────┬────────────────┐\n",
      "│ year ┆ make       ┆ model          ┆ displ ┆ … ┆ barrels08 ┆ city08 ┆ highway08 ┆ createdOn      │\n",
      "│ ---  ┆ ---        ┆ ---            ┆ ---   ┆   ┆ ---       ┆ ---    ┆ ---       ┆ ---            │\n",
      "│ i64  ┆ str        ┆ str            ┆ f64   ┆   ┆ f64       ┆ i64    ┆ i64       ┆ str            │\n",
      "╞══════╪════════════╪════════════════╪═══════╪═══╪═══════════╪════════╪═══════════╪════════════════╡\n",
      "│ 1985 ┆ Alfa Romeo ┆ Spider Veloce  ┆ 2.0   ┆ … ┆ 14.167143 ┆ 19     ┆ 25        ┆ Tue Jan 01     │\n",
      "│      ┆            ┆ 2000           ┆       ┆   ┆           ┆        ┆           ┆ 00:00:00 EST   │\n",
      "│      ┆            ┆                ┆       ┆   ┆           ┆        ┆           ┆ 2013           │\n",
      "│ 1985 ┆ Ferrari    ┆ Testarossa     ┆ 4.9   ┆ … ┆ 27.046364 ┆ 9      ┆ 14        ┆ Tue Jan 01     │\n",
      "│      ┆            ┆                ┆       ┆   ┆           ┆        ┆           ┆ 00:00:00 EST   │\n",
      "│      ┆            ┆                ┆       ┆   ┆           ┆        ┆           ┆ 2013           │\n",
      "│ 1985 ┆ Dodge      ┆ Charger        ┆ 2.2   ┆ … ┆ 11.018889 ┆ 23     ┆ 33        ┆ Tue Jan 01     │\n",
      "│      ┆            ┆                ┆       ┆   ┆           ┆        ┆           ┆ 00:00:00 EST   │\n",
      "│      ┆            ┆                ┆       ┆   ┆           ┆        ┆           ┆ 2013           │\n",
      "│ 1985 ┆ Dodge      ┆ B150/B250      ┆ 5.2   ┆ … ┆ 27.046364 ┆ 10     ┆ 12        ┆ Tue Jan 01     │\n",
      "│      ┆            ┆ Wagon 2WD      ┆       ┆   ┆           ┆        ┆           ┆ 00:00:00 EST   │\n",
      "│      ┆            ┆                ┆       ┆   ┆           ┆        ┆           ┆ 2013           │\n",
      "│ 1993 ┆ Subaru     ┆ Legacy AWD     ┆ 2.2   ┆ … ┆ 15.658421 ┆ 17     ┆ 23        ┆ Tue Jan 01     │\n",
      "│      ┆            ┆ Turbo          ┆       ┆   ┆           ┆        ┆           ┆ 00:00:00 EST   │\n",
      "│      ┆            ┆                ┆       ┆   ┆           ┆        ┆           ┆ 2013           │\n",
      "│ …    ┆ …          ┆ …              ┆ …     ┆ … ┆ …         ┆ …      ┆ …         ┆ …              │\n",
      "│ 1993 ┆ Subaru     ┆ Legacy         ┆ 2.2   ┆ … ┆ 13.523182 ┆ 19     ┆ 26        ┆ Tue Jan 01     │\n",
      "│      ┆            ┆                ┆       ┆   ┆           ┆        ┆           ┆ 00:00:00 EST   │\n",
      "│      ┆            ┆                ┆       ┆   ┆           ┆        ┆           ┆ 2013           │\n",
      "│ 1993 ┆ Subaru     ┆ Legacy         ┆ 2.2   ┆ … ┆ 12.935217 ┆ 20     ┆ 28        ┆ Tue Jan 01     │\n",
      "│      ┆            ┆                ┆       ┆   ┆           ┆        ┆           ┆ 00:00:00 EST   │\n",
      "│      ┆            ┆                ┆       ┆   ┆           ┆        ┆           ┆ 2013           │\n",
      "│ 1993 ┆ Subaru     ┆ Legacy AWD     ┆ 2.2   ┆ … ┆ 14.167143 ┆ 18     ┆ 24        ┆ Tue Jan 01     │\n",
      "│      ┆            ┆                ┆       ┆   ┆           ┆        ┆           ┆ 00:00:00 EST   │\n",
      "│      ┆            ┆                ┆       ┆   ┆           ┆        ┆           ┆ 2013           │\n",
      "│ 1993 ┆ Subaru     ┆ Legacy AWD     ┆ 2.2   ┆ … ┆ 14.167143 ┆ 18     ┆ 24        ┆ Tue Jan 01     │\n",
      "│      ┆            ┆                ┆       ┆   ┆           ┆        ┆           ┆ 00:00:00 EST   │\n",
      "│      ┆            ┆                ┆       ┆   ┆           ┆        ┆           ┆ 2013           │\n",
      "│ 1993 ┆ Subaru     ┆ Legacy AWD     ┆ 2.2   ┆ … ┆ 16.528333 ┆ 16     ┆ 21        ┆ Tue Jan 01     │\n",
      "│      ┆            ┆ Turbo          ┆       ┆   ┆           ┆        ┆           ┆ 00:00:00 EST   │\n",
      "│      ┆            ┆                ┆       ┆   ┆           ┆        ┆           ┆ 2013           │\n",
      "└──────┴────────────┴────────────────┴───────┴───┴───────────┴────────┴───────────┴────────────────┘\n"
     ]
    }
   ],
   "source": [
    "# view the table with the selected columns\n",
    "\n",
    "print(df.select(cols))\n",
    "\n",
    "# alternatively you can use also\n",
    "\n",
    "#print(df.select(pl.col(cols)))"
   ]
  },
  {
   "cell_type": "code",
   "execution_count": 78,
   "id": "ecd4ad02-938e-4dca-81ce-c545b10afa66",
   "metadata": {},
   "outputs": [
    {
     "name": "stdout",
     "output_type": "stream",
     "text": [
      "shape: (9, 5)\n",
      "┌────────────┬─────────────┬───────────┬───────────┬───────────┐\n",
      "│ statistic  ┆ year        ┆ cylinders ┆ city08    ┆ highway08 │\n",
      "│ ---        ┆ ---         ┆ ---       ┆ ---       ┆ ---       │\n",
      "│ str        ┆ f64         ┆ f64       ┆ f64       ┆ f64       │\n",
      "╞════════════╪═════════════╪═══════════╪═══════════╪═══════════╡\n",
      "│ count      ┆ 47321.0     ┆ 46637.0   ┆ 47321.0   ┆ 47321.0   │\n",
      "│ null_count ┆ 0.0         ┆ 684.0     ┆ 0.0       ┆ 0.0       │\n",
      "│ mean       ┆ 2004.216521 ┆ 5.70384   ┆ 19.469221 ┆ 25.449674 │\n",
      "│ std        ┆ 12.491498   ┆ 1.772467  ┆ 11.304338 ┆ 10.107025 │\n",
      "│ min        ┆ 1984.0      ┆ 2.0       ┆ 6.0       ┆ 9.0       │\n",
      "│ 25%        ┆ 1993.0      ┆ 4.0       ┆ 15.0      ┆ 20.0      │\n",
      "│ 50%        ┆ 2005.0      ┆ 6.0       ┆ 18.0      ┆ 24.0      │\n",
      "│ 75%        ┆ 2015.0      ┆ 6.0       ┆ 21.0      ┆ 28.0      │\n",
      "│ max        ┆ 2025.0      ┆ 16.0      ┆ 153.0     ┆ 140.0     │\n",
      "└────────────┴─────────────┴───────────┴───────────┴───────────┘\n"
     ]
    }
   ],
   "source": [
    "# let's start from the interger colums\n",
    "\n",
    "print(\n",
    "    (\n",
    "        df.select(col)\n",
    "        .select(\n",
    "            pl.col(pl.Int64))\n",
    "        .describe())\n",
    ")"
   ]
  },
  {
   "cell_type": "code",
   "execution_count": 106,
   "id": "34c7a883-4382-4966-af08-a170d33c98d9",
   "metadata": {},
   "outputs": [
    {
     "name": "stdout",
     "output_type": "stream",
     "text": [
      "shape: (47_321, 13)\n",
      "┌──────┬────────────┬────────────────┬───────┬───┬───────────┬────────┬───────────┬────────────────┐\n",
      "│ year ┆ make       ┆ model          ┆ displ ┆ … ┆ barrels08 ┆ city08 ┆ highway08 ┆ createdOn      │\n",
      "│ ---  ┆ ---        ┆ ---            ┆ ---   ┆   ┆ ---       ┆ ---    ┆ ---       ┆ ---            │\n",
      "│ i16  ┆ str        ┆ str            ┆ f64   ┆   ┆ f64       ┆ u8     ┆ u8        ┆ str            │\n",
      "╞══════╪════════════╪════════════════╪═══════╪═══╪═══════════╪════════╪═══════════╪════════════════╡\n",
      "│ 1985 ┆ Alfa Romeo ┆ Spider Veloce  ┆ 2.0   ┆ … ┆ 14.167143 ┆ 19     ┆ 25        ┆ Tue Jan 01     │\n",
      "│      ┆            ┆ 2000           ┆       ┆   ┆           ┆        ┆           ┆ 00:00:00 EST   │\n",
      "│      ┆            ┆                ┆       ┆   ┆           ┆        ┆           ┆ 2013           │\n",
      "│ 1985 ┆ Ferrari    ┆ Testarossa     ┆ 4.9   ┆ … ┆ 27.046364 ┆ 9      ┆ 14        ┆ Tue Jan 01     │\n",
      "│      ┆            ┆                ┆       ┆   ┆           ┆        ┆           ┆ 00:00:00 EST   │\n",
      "│      ┆            ┆                ┆       ┆   ┆           ┆        ┆           ┆ 2013           │\n",
      "│ 1985 ┆ Dodge      ┆ Charger        ┆ 2.2   ┆ … ┆ 11.018889 ┆ 23     ┆ 33        ┆ Tue Jan 01     │\n",
      "│      ┆            ┆                ┆       ┆   ┆           ┆        ┆           ┆ 00:00:00 EST   │\n",
      "│      ┆            ┆                ┆       ┆   ┆           ┆        ┆           ┆ 2013           │\n",
      "│ 1985 ┆ Dodge      ┆ B150/B250      ┆ 5.2   ┆ … ┆ 27.046364 ┆ 10     ┆ 12        ┆ Tue Jan 01     │\n",
      "│      ┆            ┆ Wagon 2WD      ┆       ┆   ┆           ┆        ┆           ┆ 00:00:00 EST   │\n",
      "│      ┆            ┆                ┆       ┆   ┆           ┆        ┆           ┆ 2013           │\n",
      "│ 1993 ┆ Subaru     ┆ Legacy AWD     ┆ 2.2   ┆ … ┆ 15.658421 ┆ 17     ┆ 23        ┆ Tue Jan 01     │\n",
      "│      ┆            ┆ Turbo          ┆       ┆   ┆           ┆        ┆           ┆ 00:00:00 EST   │\n",
      "│      ┆            ┆                ┆       ┆   ┆           ┆        ┆           ┆ 2013           │\n",
      "│ …    ┆ …          ┆ …              ┆ …     ┆ … ┆ …         ┆ …      ┆ …         ┆ …              │\n",
      "│ 1993 ┆ Subaru     ┆ Legacy         ┆ 2.2   ┆ … ┆ 13.523182 ┆ 19     ┆ 26        ┆ Tue Jan 01     │\n",
      "│      ┆            ┆                ┆       ┆   ┆           ┆        ┆           ┆ 00:00:00 EST   │\n",
      "│      ┆            ┆                ┆       ┆   ┆           ┆        ┆           ┆ 2013           │\n",
      "│ 1993 ┆ Subaru     ┆ Legacy         ┆ 2.2   ┆ … ┆ 12.935217 ┆ 20     ┆ 28        ┆ Tue Jan 01     │\n",
      "│      ┆            ┆                ┆       ┆   ┆           ┆        ┆           ┆ 00:00:00 EST   │\n",
      "│      ┆            ┆                ┆       ┆   ┆           ┆        ┆           ┆ 2013           │\n",
      "│ 1993 ┆ Subaru     ┆ Legacy AWD     ┆ 2.2   ┆ … ┆ 14.167143 ┆ 18     ┆ 24        ┆ Tue Jan 01     │\n",
      "│      ┆            ┆                ┆       ┆   ┆           ┆        ┆           ┆ 00:00:00 EST   │\n",
      "│      ┆            ┆                ┆       ┆   ┆           ┆        ┆           ┆ 2013           │\n",
      "│ 1993 ┆ Subaru     ┆ Legacy AWD     ┆ 2.2   ┆ … ┆ 14.167143 ┆ 18     ┆ 24        ┆ Tue Jan 01     │\n",
      "│      ┆            ┆                ┆       ┆   ┆           ┆        ┆           ┆ 00:00:00 EST   │\n",
      "│      ┆            ┆                ┆       ┆   ┆           ┆        ┆           ┆ 2013           │\n",
      "│ 1993 ┆ Subaru     ┆ Legacy AWD     ┆ 2.2   ┆ … ┆ 16.528333 ┆ 16     ┆ 21        ┆ Tue Jan 01     │\n",
      "│      ┆            ┆ Turbo          ┆       ┆   ┆           ┆        ┆           ┆ 00:00:00 EST   │\n",
      "│      ┆            ┆                ┆       ┆   ┆           ┆        ┆           ┆ 2013           │\n",
      "└──────┴────────────┴────────────────┴───────┴───┴───────────┴────────┴───────────┴────────────────┘\n"
     ]
    }
   ],
   "source": [
    "unsigned_col = ['cylinders', 'city08', 'highway08']\n",
    "\n",
    "print(\n",
    "    (\n",
    "        df.select(cols)\n",
    "        .with_columns(pl.col(unsigned_col).cast(pl.UInt8),\n",
    "        pl.col('year').cast(pl.Int16)\n",
    "    )\n",
    ")\n",
    ")"
   ]
  },
  {
   "cell_type": "code",
   "execution_count": 103,
   "id": "c72c865b-1462-4ff8-be65-aee8fa1e9806",
   "metadata": {},
   "outputs": [
    {
     "name": "stdout",
     "output_type": "stream",
     "text": [
      "OrderedDict([('year', Int64), ('make', String), ('model', String), ('displ', Float64), ('cylinders', Int64), ('trany', String), ('drive', String), ('VClass', String), ('fuelType', String), ('barrels08', Float64), ('city08', Int64), ('highway08', Int64), ('createdOn', String)])\n"
     ]
    }
   ],
   "source": [
    "# You could have used automatic shrimking but it's not safe\n",
    "\n",
    "print(df.select(pl.col(cols)).shrink_to_fit().schema)\n",
    "\n",
    "# As you can it hasn't done a good job.\n",
    "# There is also another modules called shrink_dtype()\n",
    "# but the concept of safety is similar"
   ]
  },
  {
   "cell_type": "markdown",
   "id": "1437ad4b-9c5c-4d65-acdd-95d9a7b19536",
   "metadata": {
    "jp-MarkdownHeadingCollapsed": true
   },
   "source": [
    "### Floats Convertion"
   ]
  },
  {
   "cell_type": "code",
   "execution_count": 104,
   "id": "b2a0ddad-71e0-4ff4-b25a-afd765082349",
   "metadata": {},
   "outputs": [
    {
     "name": "stdout",
     "output_type": "stream",
     "text": [
      "shape: (47_321, 2)\n",
      "┌───────┬───────────┐\n",
      "│ displ ┆ barrels08 │\n",
      "│ ---   ┆ ---       │\n",
      "│ f64   ┆ f64       │\n",
      "╞═══════╪═══════════╡\n",
      "│ 2.0   ┆ 14.167143 │\n",
      "│ 4.9   ┆ 27.046364 │\n",
      "│ 2.2   ┆ 11.018889 │\n",
      "│ 5.2   ┆ 27.046364 │\n",
      "│ 2.2   ┆ 15.658421 │\n",
      "│ …     ┆ …         │\n",
      "│ 2.2   ┆ 13.523182 │\n",
      "│ 2.2   ┆ 12.935217 │\n",
      "│ 2.2   ┆ 14.167143 │\n",
      "│ 2.2   ┆ 14.167143 │\n",
      "│ 2.2   ┆ 16.528333 │\n",
      "└───────┴───────────┘\n"
     ]
    }
   ],
   "source": [
    "# Get the float columns\n",
    "\n",
    "print(\n",
    "    (\n",
    "        df.select(cols)\n",
    "        .select(pl.col(pl.Float64)\n",
    "               )\n",
    "    )\n",
    ")"
   ]
  },
  {
   "cell_type": "code",
   "execution_count": 107,
   "id": "eac7b4c1-f8a2-4eef-bc50-11dacf8e6e74",
   "metadata": {},
   "outputs": [
    {
     "name": "stdout",
     "output_type": "stream",
     "text": [
      "shape: (47_321, 13)\n",
      "┌──────┬────────────┬────────────────┬───────┬───┬───────────┬────────┬───────────┬────────────────┐\n",
      "│ year ┆ make       ┆ model          ┆ displ ┆ … ┆ barrels08 ┆ city08 ┆ highway08 ┆ createdOn      │\n",
      "│ ---  ┆ ---        ┆ ---            ┆ ---   ┆   ┆ ---       ┆ ---    ┆ ---       ┆ ---            │\n",
      "│ i16  ┆ str        ┆ str            ┆ f32   ┆   ┆ f32       ┆ u8     ┆ u8        ┆ str            │\n",
      "╞══════╪════════════╪════════════════╪═══════╪═══╪═══════════╪════════╪═══════════╪════════════════╡\n",
      "│ 1985 ┆ Alfa Romeo ┆ Spider Veloce  ┆ 2.0   ┆ … ┆ 14.167143 ┆ 19     ┆ 25        ┆ Tue Jan 01     │\n",
      "│      ┆            ┆ 2000           ┆       ┆   ┆           ┆        ┆           ┆ 00:00:00 EST   │\n",
      "│      ┆            ┆                ┆       ┆   ┆           ┆        ┆           ┆ 2013           │\n",
      "│ 1985 ┆ Ferrari    ┆ Testarossa     ┆ 4.9   ┆ … ┆ 27.046364 ┆ 9      ┆ 14        ┆ Tue Jan 01     │\n",
      "│      ┆            ┆                ┆       ┆   ┆           ┆        ┆           ┆ 00:00:00 EST   │\n",
      "│      ┆            ┆                ┆       ┆   ┆           ┆        ┆           ┆ 2013           │\n",
      "│ 1985 ┆ Dodge      ┆ Charger        ┆ 2.2   ┆ … ┆ 11.018888 ┆ 23     ┆ 33        ┆ Tue Jan 01     │\n",
      "│      ┆            ┆                ┆       ┆   ┆           ┆        ┆           ┆ 00:00:00 EST   │\n",
      "│      ┆            ┆                ┆       ┆   ┆           ┆        ┆           ┆ 2013           │\n",
      "│ 1985 ┆ Dodge      ┆ B150/B250      ┆ 5.2   ┆ … ┆ 27.046364 ┆ 10     ┆ 12        ┆ Tue Jan 01     │\n",
      "│      ┆            ┆ Wagon 2WD      ┆       ┆   ┆           ┆        ┆           ┆ 00:00:00 EST   │\n",
      "│      ┆            ┆                ┆       ┆   ┆           ┆        ┆           ┆ 2013           │\n",
      "│ 1993 ┆ Subaru     ┆ Legacy AWD     ┆ 2.2   ┆ … ┆ 15.658422 ┆ 17     ┆ 23        ┆ Tue Jan 01     │\n",
      "│      ┆            ┆ Turbo          ┆       ┆   ┆           ┆        ┆           ┆ 00:00:00 EST   │\n",
      "│      ┆            ┆                ┆       ┆   ┆           ┆        ┆           ┆ 2013           │\n",
      "│ …    ┆ …          ┆ …              ┆ …     ┆ … ┆ …         ┆ …      ┆ …         ┆ …              │\n",
      "│ 1993 ┆ Subaru     ┆ Legacy         ┆ 2.2   ┆ … ┆ 13.523182 ┆ 19     ┆ 26        ┆ Tue Jan 01     │\n",
      "│      ┆            ┆                ┆       ┆   ┆           ┆        ┆           ┆ 00:00:00 EST   │\n",
      "│      ┆            ┆                ┆       ┆   ┆           ┆        ┆           ┆ 2013           │\n",
      "│ 1993 ┆ Subaru     ┆ Legacy         ┆ 2.2   ┆ … ┆ 12.935218 ┆ 20     ┆ 28        ┆ Tue Jan 01     │\n",
      "│      ┆            ┆                ┆       ┆   ┆           ┆        ┆           ┆ 00:00:00 EST   │\n",
      "│      ┆            ┆                ┆       ┆   ┆           ┆        ┆           ┆ 2013           │\n",
      "│ 1993 ┆ Subaru     ┆ Legacy AWD     ┆ 2.2   ┆ … ┆ 14.167143 ┆ 18     ┆ 24        ┆ Tue Jan 01     │\n",
      "│      ┆            ┆                ┆       ┆   ┆           ┆        ┆           ┆ 00:00:00 EST   │\n",
      "│      ┆            ┆                ┆       ┆   ┆           ┆        ┆           ┆ 2013           │\n",
      "│ 1993 ┆ Subaru     ┆ Legacy AWD     ┆ 2.2   ┆ … ┆ 14.167143 ┆ 18     ┆ 24        ┆ Tue Jan 01     │\n",
      "│      ┆            ┆                ┆       ┆   ┆           ┆        ┆           ┆ 00:00:00 EST   │\n",
      "│      ┆            ┆                ┆       ┆   ┆           ┆        ┆           ┆ 2013           │\n",
      "│ 1993 ┆ Subaru     ┆ Legacy AWD     ┆ 2.2   ┆ … ┆ 16.528334 ┆ 16     ┆ 21        ┆ Tue Jan 01     │\n",
      "│      ┆            ┆ Turbo          ┆       ┆   ┆           ┆        ┆           ┆ 00:00:00 EST   │\n",
      "│      ┆            ┆                ┆       ┆   ┆           ┆        ┆           ┆ 2013           │\n",
      "└──────┴────────────┴────────────────┴───────┴───┴───────────┴────────┴───────────┴────────────────┘\n"
     ]
    }
   ],
   "source": [
    "# we can use float 32 as the precision is enogh\n",
    "\n",
    "unsigned_col = ['cylinders', 'city08', 'highway08']\n",
    "float_col = ['displ', 'barrels08']\n",
    "\n",
    "print(\n",
    "    (\n",
    "        df.select(cols)\n",
    "        .with_columns(pl.col(unsigned_col).cast(pl.UInt8),\n",
    "                      pl.col('year').cast(pl.Int16),\n",
    "                      pl.col(float_col).cast(pl.Float32)\n",
    "\n",
    "                      \n",
    "    )\n",
    ")\n",
    ")"
   ]
  },
  {
   "cell_type": "markdown",
   "id": "883426a7-b511-4d60-9771-77f29edaea07",
   "metadata": {},
   "source": [
    "### Extract Numbers"
   ]
  },
  {
   "cell_type": "code",
   "execution_count": 112,
   "id": "178d2848-9884-4e02-abda-651cc35d13f5",
   "metadata": {},
   "outputs": [
    {
     "name": "stdout",
     "output_type": "stream",
     "text": [
      "shape: (47_321, 2)\n",
      "┌─────────────────┬──────────────┐\n",
      "│ trany           ┆ is_automatic │\n",
      "│ ---             ┆ ---          │\n",
      "│ str             ┆ bool         │\n",
      "╞═════════════════╪══════════════╡\n",
      "│ Manual 5-spd    ┆ false        │\n",
      "│ Manual 5-spd    ┆ false        │\n",
      "│ Manual 5-spd    ┆ false        │\n",
      "│ Automatic 3-spd ┆ true         │\n",
      "│ Manual 5-spd    ┆ false        │\n",
      "│ …               ┆ …            │\n",
      "│ Automatic 4-spd ┆ true         │\n",
      "│ Manual 5-spd    ┆ false        │\n",
      "│ Automatic 4-spd ┆ true         │\n",
      "│ Manual 5-spd    ┆ false        │\n",
      "│ Automatic 4-spd ┆ true         │\n",
      "└─────────────────┴──────────────┘\n"
     ]
    }
   ],
   "source": [
    "print(\n",
    "    (\n",
    "        df.select(\"trany\",\n",
    "        pl.col(\"trany\").str.to_lowercase().str.contains(\"automatic\").alias(\"is_automatic\")\n",
    "                 )\n",
    "    )  \n",
    ")"
   ]
  },
  {
   "cell_type": "code",
   "execution_count": 130,
   "id": "971270e0-cb0d-4d4e-9feb-cec9e62a3a96",
   "metadata": {},
   "outputs": [
    {
     "name": "stdout",
     "output_type": "stream",
     "text": [
      "shape: (15, 2)\n",
      "┌──────────────────────────────────┬──────┐\n",
      "│ trany                            ┆ len  │\n",
      "│ ---                              ┆ ---  │\n",
      "│ str                              ┆ u32  │\n",
      "╞══════════════════════════════════╪══════╡\n",
      "│ Automatic (AM-S7)                ┆ 760  │\n",
      "│ Automatic 8-spd                  ┆ 975  │\n",
      "│ Automatic (S7)                   ┆ 386  │\n",
      "│ Automatic (AM8)                  ┆ 60   │\n",
      "│ Automatic (A1)                   ┆ 614  │\n",
      "│ …                                ┆ …    │\n",
      "│ Automatic (AV-S10)               ┆ 53   │\n",
      "│ Automatic (AV-S7)                ┆ 212  │\n",
      "│ Manual 7-spd                     ┆ 176  │\n",
      "│ Automatic (S9)                   ┆ 250  │\n",
      "│ Automatic (variable gear ratios) ┆ 1091 │\n",
      "└──────────────────────────────────┴──────┘\n"
     ]
    }
   ],
   "source": [
    "# let's if the case is consistent and if the lowering of the case is needed\n",
    "# Used sample to get random sample of the data \n",
    "\n",
    "print(\n",
    "    (\n",
    "        df.group_by('trany')\n",
    "        .len()\n",
    "        .sort('len', descending = True)\n",
    "        .sample(15)\n",
    "    )\n",
    ")"
   ]
  },
  {
   "cell_type": "code",
   "execution_count": 14,
   "id": "448d28cc-b2f1-478f-93a5-dce6bae878da",
   "metadata": {},
   "outputs": [
    {
     "name": "stdout",
     "output_type": "stream",
     "text": [
      "shape: (41, 1)\n",
      "┌───────────────────────────┐\n",
      "│ trany                     │\n",
      "│ ---                       │\n",
      "│ struct[2]                 │\n",
      "╞═══════════════════════════╡\n",
      "│ {\"Automatic 4-spd\",11048} │\n",
      "│ {\"Manual 5-spd\",8391}     │\n",
      "│ {\"Automatic (S6)\",3337}   │\n",
      "│ {\"Automatic 3-spd\",3151}  │\n",
      "│ {\"Automatic (S8)\",3131}   │\n",
      "│ …                         │\n",
      "│ {null,11}                 │\n",
      "│ {\"Automatic (AM-S9)\",6}   │\n",
      "│ {\"Automatic (L4)\",2}      │\n",
      "│ {\"Automatic (L3)\",2}      │\n",
      "│ {\"Automatic (AM-S10)\",2}  │\n",
      "└───────────────────────────┘\n"
     ]
    }
   ],
   "source": [
    "# You can perform a similar calculation of grouping\n",
    "\n",
    "print(\n",
    "    (\n",
    "        df.select(pl.col\n",
    "            (\"trany\")\n",
    "            .value_counts(sort=True)\n",
    "                 )\n",
    "        #.unnest('trany')\n",
    "    )\n",
    ")"
   ]
  },
  {
   "cell_type": "code",
   "execution_count": 131,
   "id": "62a78a5a-0f34-40c6-b754-059a9a463d65",
   "metadata": {},
   "outputs": [
    {
     "name": "stdout",
     "output_type": "stream",
     "text": [
      "shape: (47_321, 14)\n",
      "┌──────┬────────────┬───────────────┬───────┬───┬────────┬───────────┬──────────────┬──────────────┐\n",
      "│ year ┆ make       ┆ model         ┆ displ ┆ … ┆ city08 ┆ highway08 ┆ createdOn    ┆ is_automatic │\n",
      "│ ---  ┆ ---        ┆ ---           ┆ ---   ┆   ┆ ---    ┆ ---       ┆ ---          ┆ ---          │\n",
      "│ i16  ┆ str        ┆ str           ┆ f32   ┆   ┆ u8     ┆ u8        ┆ str          ┆ bool         │\n",
      "╞══════╪════════════╪═══════════════╪═══════╪═══╪════════╪═══════════╪══════════════╪══════════════╡\n",
      "│ 1985 ┆ Alfa Romeo ┆ Spider Veloce ┆ 2.0   ┆ … ┆ 19     ┆ 25        ┆ Tue Jan 01   ┆ false        │\n",
      "│      ┆            ┆ 2000          ┆       ┆   ┆        ┆           ┆ 00:00:00 EST ┆              │\n",
      "│      ┆            ┆               ┆       ┆   ┆        ┆           ┆ 2013         ┆              │\n",
      "│ 1985 ┆ Ferrari    ┆ Testarossa    ┆ 4.9   ┆ … ┆ 9      ┆ 14        ┆ Tue Jan 01   ┆ false        │\n",
      "│      ┆            ┆               ┆       ┆   ┆        ┆           ┆ 00:00:00 EST ┆              │\n",
      "│      ┆            ┆               ┆       ┆   ┆        ┆           ┆ 2013         ┆              │\n",
      "│ 1985 ┆ Dodge      ┆ Charger       ┆ 2.2   ┆ … ┆ 23     ┆ 33        ┆ Tue Jan 01   ┆ false        │\n",
      "│      ┆            ┆               ┆       ┆   ┆        ┆           ┆ 00:00:00 EST ┆              │\n",
      "│      ┆            ┆               ┆       ┆   ┆        ┆           ┆ 2013         ┆              │\n",
      "│ 1985 ┆ Dodge      ┆ B150/B250     ┆ 5.2   ┆ … ┆ 10     ┆ 12        ┆ Tue Jan 01   ┆ false        │\n",
      "│      ┆            ┆ Wagon 2WD     ┆       ┆   ┆        ┆           ┆ 00:00:00 EST ┆              │\n",
      "│      ┆            ┆               ┆       ┆   ┆        ┆           ┆ 2013         ┆              │\n",
      "│ 1993 ┆ Subaru     ┆ Legacy AWD    ┆ 2.2   ┆ … ┆ 17     ┆ 23        ┆ Tue Jan 01   ┆ false        │\n",
      "│      ┆            ┆ Turbo         ┆       ┆   ┆        ┆           ┆ 00:00:00 EST ┆              │\n",
      "│      ┆            ┆               ┆       ┆   ┆        ┆           ┆ 2013         ┆              │\n",
      "│ …    ┆ …          ┆ …             ┆ …     ┆ … ┆ …      ┆ …         ┆ …            ┆ …            │\n",
      "│ 1993 ┆ Subaru     ┆ Legacy        ┆ 2.2   ┆ … ┆ 19     ┆ 26        ┆ Tue Jan 01   ┆ false        │\n",
      "│      ┆            ┆               ┆       ┆   ┆        ┆           ┆ 00:00:00 EST ┆              │\n",
      "│      ┆            ┆               ┆       ┆   ┆        ┆           ┆ 2013         ┆              │\n",
      "│ 1993 ┆ Subaru     ┆ Legacy        ┆ 2.2   ┆ … ┆ 20     ┆ 28        ┆ Tue Jan 01   ┆ false        │\n",
      "│      ┆            ┆               ┆       ┆   ┆        ┆           ┆ 00:00:00 EST ┆              │\n",
      "│      ┆            ┆               ┆       ┆   ┆        ┆           ┆ 2013         ┆              │\n",
      "│ 1993 ┆ Subaru     ┆ Legacy AWD    ┆ 2.2   ┆ … ┆ 18     ┆ 24        ┆ Tue Jan 01   ┆ false        │\n",
      "│      ┆            ┆               ┆       ┆   ┆        ┆           ┆ 00:00:00 EST ┆              │\n",
      "│      ┆            ┆               ┆       ┆   ┆        ┆           ┆ 2013         ┆              │\n",
      "│ 1993 ┆ Subaru     ┆ Legacy AWD    ┆ 2.2   ┆ … ┆ 18     ┆ 24        ┆ Tue Jan 01   ┆ false        │\n",
      "│      ┆            ┆               ┆       ┆   ┆        ┆           ┆ 00:00:00 EST ┆              │\n",
      "│      ┆            ┆               ┆       ┆   ┆        ┆           ┆ 2013         ┆              │\n",
      "│ 1993 ┆ Subaru     ┆ Legacy AWD    ┆ 2.2   ┆ … ┆ 16     ┆ 21        ┆ Tue Jan 01   ┆ false        │\n",
      "│      ┆            ┆ Turbo         ┆       ┆   ┆        ┆           ┆ 00:00:00 EST ┆              │\n",
      "│      ┆            ┆               ┆       ┆   ┆        ┆           ┆ 2013         ┆              │\n",
      "└──────┴────────────┴───────────────┴───────┴───┴────────┴───────────┴──────────────┴──────────────┘\n"
     ]
    }
   ],
   "source": [
    "# Seem consistent the casing \n",
    "# Let's add it to the chain without using the lowercase module\n",
    "\n",
    "unsigned_col = ['cylinders', 'city08', 'highway08']\n",
    "float_col = ['displ', 'barrels08']\n",
    "\n",
    "print(\n",
    "    (\n",
    "        df.select(cols)\n",
    "        .with_columns(pl.col(unsigned_col).cast(pl.UInt8),\n",
    "                      pl.col('year').cast(pl.Int16),\n",
    "                      pl.col(float_col).cast(pl.Float32),\n",
    "                      is_automatic = pl.col(\"trany\").str.contains(\"automatic\") \n",
    "\n",
    "    )\n",
    ")\n",
    ")"
   ]
  },
  {
   "cell_type": "code",
   "execution_count": 19,
   "id": "c27e188d-69e3-4e28-a1c1-7fdaaf9b0051",
   "metadata": {},
   "outputs": [
    {
     "name": "stdout",
     "output_type": "stream",
     "text": [
      "shape: (11, 4)\n",
      "┌──────┬────────┬────────────────────────┬─────────────────────────────┐\n",
      "│ year ┆ make   ┆ model                  ┆ VClass                      │\n",
      "│ ---  ┆ ---    ┆ ---                    ┆ ---                         │\n",
      "│ i64  ┆ str    ┆ str                    ┆ str                         │\n",
      "╞══════╪════════╪════════════════════════╪═════════════════════════════╡\n",
      "│ 2000 ┆ Nissan ┆ Altra EV               ┆ Midsize Station Wagons      │\n",
      "│ 2000 ┆ Toyota ┆ RAV4 EV                ┆ Sport Utility Vehicle - 2WD │\n",
      "│ 2001 ┆ Toyota ┆ RAV4 EV                ┆ Sport Utility Vehicle - 2WD │\n",
      "│ 2001 ┆ Ford   ┆ Th!nk                  ┆ Two Seaters                 │\n",
      "│ 2001 ┆ Ford   ┆ Explorer USPS Electric ┆ Sport Utility Vehicle - 2WD │\n",
      "│ …    ┆ …      ┆ …                      ┆ …                           │\n",
      "│ 2002 ┆ Toyota ┆ RAV4 EV                ┆ Sport Utility Vehicle - 2WD │\n",
      "│ 2002 ┆ Ford   ┆ Explorer USPS Electric ┆ Sport Utility Vehicle - 2WD │\n",
      "│ 2003 ┆ Toyota ┆ RAV4 EV                ┆ Sport Utility Vehicle - 2WD │\n",
      "│ 1984 ┆ Ford   ┆ F150 Pickup 2WD        ┆ Standard Pickup Trucks 2WD  │\n",
      "│ 1984 ┆ GMC    ┆ C25 Pickup 2WD         ┆ Standard Pickup Trucks 2WD  │\n",
      "└──────┴────────┴────────────────────────┴─────────────────────────────┘\n"
     ]
    }
   ],
   "source": [
    "# Let's look if there are rows where the trainy is missing\n",
    "\n",
    "print(\n",
    "    (\n",
    "        df.filter(pl.col(\"trany\").is_null())\n",
    "        .select(['year', 'make', 'model', 'VClass'])\n",
    "        )\n",
    "    )\n"
   ]
  },
  {
   "cell_type": "code",
   "execution_count": 20,
   "id": "1a72e5b9-c44a-437f-99f5-c3bff8dd7044",
   "metadata": {},
   "outputs": [
    {
     "name": "stdout",
     "output_type": "stream",
     "text": [
      "shape: (47_321, 2)\n",
      "┌─────────────────┬──────────────┐\n",
      "│ trany           ┆ is_automatic │\n",
      "│ ---             ┆ ---          │\n",
      "│ str             ┆ bool         │\n",
      "╞═════════════════╪══════════════╡\n",
      "│ Manual 5-spd    ┆ false        │\n",
      "│ Manual 5-spd    ┆ false        │\n",
      "│ Manual 5-spd    ┆ false        │\n",
      "│ Automatic 3-spd ┆ true         │\n",
      "│ Manual 5-spd    ┆ false        │\n",
      "│ …               ┆ …            │\n",
      "│ Automatic 4-spd ┆ true         │\n",
      "│ Manual 5-spd    ┆ false        │\n",
      "│ Automatic 4-spd ┆ true         │\n",
      "│ Manual 5-spd    ┆ false        │\n",
      "│ Automatic 4-spd ┆ true         │\n",
      "└─────────────────┴──────────────┘\n"
     ]
    }
   ],
   "source": [
    "# We suppose that they are all automatic\n",
    "# So the code about is_automatic column will be\n",
    "\n",
    "print( \n",
    "    (\n",
    "        df.select(\n",
    "            pl.col(\"trany\"),\n",
    "            is_automatic = pl.col(\"trany\").str.contains(\"Automatic\")\n",
    "            .fill_null(True)\n",
    "        )\n",
    "    )\n",
    ")\n",
    "            \n",
    "                         "
   ]
  },
  {
   "cell_type": "code",
   "execution_count": 28,
   "id": "a22973f6-114c-4993-9ec4-e7c4c5842b8c",
   "metadata": {},
   "outputs": [
    {
     "name": "stdout",
     "output_type": "stream",
     "text": [
      "shape: (47_321, 2)\n",
      "┌─────────────────┬───────┐\n",
      "│ trany           ┆ gears │\n",
      "│ ---             ┆ ---   │\n",
      "│ str             ┆ u8    │\n",
      "╞═════════════════╪═══════╡\n",
      "│ Manual 5-spd    ┆ 5     │\n",
      "│ Manual 5-spd    ┆ 5     │\n",
      "│ Manual 5-spd    ┆ 5     │\n",
      "│ Automatic 3-spd ┆ 3     │\n",
      "│ Manual 5-spd    ┆ 5     │\n",
      "│ …               ┆ …     │\n",
      "│ Automatic 4-spd ┆ 4     │\n",
      "│ Manual 5-spd    ┆ 5     │\n",
      "│ Automatic 4-spd ┆ 4     │\n",
      "│ Manual 5-spd    ┆ 5     │\n",
      "│ Automatic 4-spd ┆ 4     │\n",
      "└─────────────────┴───────┘\n"
     ]
    }
   ],
   "source": [
    "# Let's get the number of gears from the trany column\n",
    "\n",
    "print(\n",
    "    (\n",
    "        df.select(\n",
    "            pl.col(\"trany\"),\n",
    "            gears= pl.col(\"trany\").str.extract(r\"(\\d+)\").cast(pl.UInt8)\n",
    "        )\n",
    "    )\n",
    ")\n",
    "                  "
   ]
  },
  {
   "cell_type": "code",
   "execution_count": 33,
   "id": "bfde3199-3cdc-4204-aa0b-2f752b493c5d",
   "metadata": {},
   "outputs": [
    {
     "name": "stdout",
     "output_type": "stream",
     "text": [
      "shape: (1_102, 2)\n",
      "┌──────────────────────────────────┬───────┐\n",
      "│ trany                            ┆ gears │\n",
      "│ ---                              ┆ ---   │\n",
      "│ str                              ┆ str   │\n",
      "╞══════════════════════════════════╪═══════╡\n",
      "│ Automatic (variable gear ratios) ┆ null  │\n",
      "│ Automatic (variable gear ratios) ┆ null  │\n",
      "│ Automatic (variable gear ratios) ┆ null  │\n",
      "│ Automatic (variable gear ratios) ┆ null  │\n",
      "│ Automatic (variable gear ratios) ┆ null  │\n",
      "│ …                                ┆ …     │\n",
      "│ Automatic (variable gear ratios) ┆ null  │\n",
      "│ Automatic (variable gear ratios) ┆ null  │\n",
      "│ Automatic (variable gear ratios) ┆ null  │\n",
      "│ Automatic (variable gear ratios) ┆ null  │\n",
      "│ Automatic (variable gear ratios) ┆ null  │\n",
      "└──────────────────────────────────┴───────┘\n"
     ]
    }
   ],
   "source": [
    "# Check the null gears\n",
    "\n",
    "print(\n",
    "    (\n",
    "        df.select(\n",
    "            pl.col(\"trany\"),\n",
    "            gears= pl.col(\"trany\").str.extract(r\"(\\d+)\")\n",
    "        )\n",
    "        .filter(pl.col('gears').is_null())\n",
    "    )\n",
    ")\n",
    "          "
   ]
  },
  {
   "cell_type": "code",
   "execution_count": 39,
   "id": "33d99fc1-3347-48c5-bb81-ba98d83ca09b",
   "metadata": {},
   "outputs": [
    {
     "name": "stdout",
     "output_type": "stream",
     "text": [
      "shape: (11, 1)\n",
      "┌───────┐\n",
      "│ gears │\n",
      "│ ---   │\n",
      "│ u8    │\n",
      "╞═══════╡\n",
      "│ null  │\n",
      "│ 1     │\n",
      "│ 2     │\n",
      "│ 3     │\n",
      "│ 4     │\n",
      "│ …     │\n",
      "│ 6     │\n",
      "│ 7     │\n",
      "│ 8     │\n",
      "│ 9     │\n",
      "│ 10    │\n",
      "└───────┘\n"
     ]
    }
   ],
   "source": [
    "# check the unique number of gears\n",
    "\n",
    "print(\n",
    "    (\n",
    "        df.select(\n",
    "            gears= pl.col(\"trany\").str.extract(r\"(\\d+)\")\n",
    "        )\n",
    "        .cast(pl.UInt8)\n",
    "        .unique()\n",
    "        .sort(by= 'gears',descending = False)\n",
    "    )\n",
    ")"
   ]
  },
  {
   "cell_type": "code",
   "execution_count": 41,
   "id": "6bb0a4aa-3ed6-4afe-98ce-0d0c72f782ec",
   "metadata": {},
   "outputs": [
    {
     "name": "stdout",
     "output_type": "stream",
     "text": [
      "shape: (47_321, 2)\n",
      "┌─────────────────┬───────┐\n",
      "│ trany           ┆ gears │\n",
      "│ ---             ┆ ---   │\n",
      "│ str             ┆ u8    │\n",
      "╞═════════════════╪═══════╡\n",
      "│ Manual 5-spd    ┆ 5     │\n",
      "│ Manual 5-spd    ┆ 5     │\n",
      "│ Manual 5-spd    ┆ 5     │\n",
      "│ Automatic 3-spd ┆ 3     │\n",
      "│ Manual 5-spd    ┆ 5     │\n",
      "│ …               ┆ …     │\n",
      "│ Automatic 4-spd ┆ 4     │\n",
      "│ Manual 5-spd    ┆ 5     │\n",
      "│ Automatic 4-spd ┆ 4     │\n",
      "│ Manual 5-spd    ┆ 5     │\n",
      "│ Automatic 4-spd ┆ 4     │\n",
      "└─────────────────┴───────┘\n"
     ]
    }
   ],
   "source": [
    "# fill the null gears with 6 \n",
    "\n",
    "print(\n",
    "    (\n",
    "        df.select(\n",
    "            pl.col(\"trany\"),\n",
    "            gears= pl.col(\"trany\").str.extract(r\"(\\d+)\")\n",
    "            .fill_null(6)\n",
    "            .cast(pl.UInt8)\n",
    "        )\n",
    "        \n",
    "    )\n",
    ")"
   ]
  },
  {
   "cell_type": "code",
   "execution_count": 43,
   "id": "85fc0a66-a980-41b5-b82c-f5d17ca9f060",
   "metadata": {},
   "outputs": [
    {
     "name": "stdout",
     "output_type": "stream",
     "text": [
      "shape: (47_321, 15)\n",
      "┌──────┬────────────┬───────────────┬───────┬───┬───────────┬───────────────┬──────────────┬───────┐\n",
      "│ year ┆ make       ┆ model         ┆ displ ┆ … ┆ highway08 ┆ createdOn     ┆ is_automatic ┆ gears │\n",
      "│ ---  ┆ ---        ┆ ---           ┆ ---   ┆   ┆ ---       ┆ ---           ┆ ---          ┆ ---   │\n",
      "│ i16  ┆ str        ┆ str           ┆ f32   ┆   ┆ u8        ┆ str           ┆ bool         ┆ u8    │\n",
      "╞══════╪════════════╪═══════════════╪═══════╪═══╪═══════════╪═══════════════╪══════════════╪═══════╡\n",
      "│ 1985 ┆ Alfa Romeo ┆ Spider Veloce ┆ 2.0   ┆ … ┆ 25        ┆ Tue Jan 01    ┆ false        ┆ 5     │\n",
      "│      ┆            ┆ 2000          ┆       ┆   ┆           ┆ 00:00:00 EST  ┆              ┆       │\n",
      "│      ┆            ┆               ┆       ┆   ┆           ┆ 2013          ┆              ┆       │\n",
      "│ 1985 ┆ Ferrari    ┆ Testarossa    ┆ 4.9   ┆ … ┆ 14        ┆ Tue Jan 01    ┆ false        ┆ 5     │\n",
      "│      ┆            ┆               ┆       ┆   ┆           ┆ 00:00:00 EST  ┆              ┆       │\n",
      "│      ┆            ┆               ┆       ┆   ┆           ┆ 2013          ┆              ┆       │\n",
      "│ 1985 ┆ Dodge      ┆ Charger       ┆ 2.2   ┆ … ┆ 33        ┆ Tue Jan 01    ┆ false        ┆ 5     │\n",
      "│      ┆            ┆               ┆       ┆   ┆           ┆ 00:00:00 EST  ┆              ┆       │\n",
      "│      ┆            ┆               ┆       ┆   ┆           ┆ 2013          ┆              ┆       │\n",
      "│ 1985 ┆ Dodge      ┆ B150/B250     ┆ 5.2   ┆ … ┆ 12        ┆ Tue Jan 01    ┆ true         ┆ 3     │\n",
      "│      ┆            ┆ Wagon 2WD     ┆       ┆   ┆           ┆ 00:00:00 EST  ┆              ┆       │\n",
      "│      ┆            ┆               ┆       ┆   ┆           ┆ 2013          ┆              ┆       │\n",
      "│ 1993 ┆ Subaru     ┆ Legacy AWD    ┆ 2.2   ┆ … ┆ 23        ┆ Tue Jan 01    ┆ false        ┆ 5     │\n",
      "│      ┆            ┆ Turbo         ┆       ┆   ┆           ┆ 00:00:00 EST  ┆              ┆       │\n",
      "│      ┆            ┆               ┆       ┆   ┆           ┆ 2013          ┆              ┆       │\n",
      "│ …    ┆ …          ┆ …             ┆ …     ┆ … ┆ …         ┆ …             ┆ …            ┆ …     │\n",
      "│ 1993 ┆ Subaru     ┆ Legacy        ┆ 2.2   ┆ … ┆ 26        ┆ Tue Jan 01    ┆ true         ┆ 4     │\n",
      "│      ┆            ┆               ┆       ┆   ┆           ┆ 00:00:00 EST  ┆              ┆       │\n",
      "│      ┆            ┆               ┆       ┆   ┆           ┆ 2013          ┆              ┆       │\n",
      "│ 1993 ┆ Subaru     ┆ Legacy        ┆ 2.2   ┆ … ┆ 28        ┆ Tue Jan 01    ┆ false        ┆ 5     │\n",
      "│      ┆            ┆               ┆       ┆   ┆           ┆ 00:00:00 EST  ┆              ┆       │\n",
      "│      ┆            ┆               ┆       ┆   ┆           ┆ 2013          ┆              ┆       │\n",
      "│ 1993 ┆ Subaru     ┆ Legacy AWD    ┆ 2.2   ┆ … ┆ 24        ┆ Tue Jan 01    ┆ true         ┆ 4     │\n",
      "│      ┆            ┆               ┆       ┆   ┆           ┆ 00:00:00 EST  ┆              ┆       │\n",
      "│      ┆            ┆               ┆       ┆   ┆           ┆ 2013          ┆              ┆       │\n",
      "│ 1993 ┆ Subaru     ┆ Legacy AWD    ┆ 2.2   ┆ … ┆ 24        ┆ Tue Jan 01    ┆ false        ┆ 5     │\n",
      "│      ┆            ┆               ┆       ┆   ┆           ┆ 00:00:00 EST  ┆              ┆       │\n",
      "│      ┆            ┆               ┆       ┆   ┆           ┆ 2013          ┆              ┆       │\n",
      "│ 1993 ┆ Subaru     ┆ Legacy AWD    ┆ 2.2   ┆ … ┆ 21        ┆ Tue Jan 01    ┆ true         ┆ 4     │\n",
      "│      ┆            ┆ Turbo         ┆       ┆   ┆           ┆ 00:00:00 EST  ┆              ┆       │\n",
      "│      ┆            ┆               ┆       ┆   ┆           ┆ 2013          ┆              ┆       │\n",
      "└──────┴────────────┴───────────────┴───────┴───┴───────────┴───────────────┴──────────────┴───────┘\n"
     ]
    }
   ],
   "source": [
    "# Check the is_automatic and gears columns addition\n",
    "\n",
    "cols = ['year', 'make', 'model', 'displ', 'cylinders', 'trany', 'drive', 'VClass', 'fuelType', 'barrels08', 'city08', 'highway08','createdOn']\n",
    "unsigned_col = ['cylinders', 'city08', 'highway08']\n",
    "float_col = ['displ', 'barrels08']\n",
    "\n",
    "print(\n",
    "    (\n",
    "        df.select(cols)\n",
    "        .with_columns(pl.col(unsigned_col).cast(pl.UInt8),\n",
    "                      pl.col('year').cast(pl.Int16),\n",
    "                      pl.col(float_col).cast(pl.Float32),\n",
    "                      is_automatic = pl.col(\"trany\")\n",
    "                          .str.contains(\"Automatic\")\n",
    "                          .fill_null(True),\n",
    "                      gears= pl.col(\"trany\").str.extract(r\"(\\d+)\")\n",
    "                      .fill_null(6)\n",
    "                      .cast(pl.UInt8)\n",
    "                     )\n",
    "    )\n",
    ")\n",
    "\n"
   ]
  },
  {
   "cell_type": "markdown",
   "id": "9768b0f0-eb24-4b0c-a1b3-2a9cfa6ab61f",
   "metadata": {},
   "source": [
    "### String Convertions"
   ]
  },
  {
   "cell_type": "code",
   "execution_count": 58,
   "id": "07f50af3-0b63-48a5-96ab-2879c93efb8e",
   "metadata": {},
   "outputs": [
    {
     "name": "stdout",
     "output_type": "stream",
     "text": [
      "shape: (47_321, 7)\n",
      "┌────────────┬──────────────┬──────────────┬──────────────┬──────────────┬──────────┬──────────────┐\n",
      "│ make       ┆ model        ┆ trany        ┆ drive        ┆ VClass       ┆ fuelType ┆ createdOn    │\n",
      "│ ---        ┆ ---          ┆ ---          ┆ ---          ┆ ---          ┆ ---      ┆ ---          │\n",
      "│ str        ┆ str          ┆ str          ┆ str          ┆ str          ┆ str      ┆ datetime[μs] │\n",
      "╞════════════╪══════════════╪══════════════╪══════════════╪══════════════╪══════════╪══════════════╡\n",
      "│ Alfa Romeo ┆ Spider       ┆ Manual 5-spd ┆ Rear-Wheel   ┆ Two Seaters  ┆ Regular  ┆ 2013-01-01   │\n",
      "│            ┆ Veloce 2000  ┆              ┆ Drive        ┆              ┆          ┆ 00:00:00     │\n",
      "│ Ferrari    ┆ Testarossa   ┆ Manual 5-spd ┆ Rear-Wheel   ┆ Two Seaters  ┆ Regular  ┆ 2013-01-01   │\n",
      "│            ┆              ┆              ┆ Drive        ┆              ┆          ┆ 00:00:00     │\n",
      "│ Dodge      ┆ Charger      ┆ Manual 5-spd ┆ Front-Wheel  ┆ Subcompact   ┆ Regular  ┆ 2013-01-01   │\n",
      "│            ┆              ┆              ┆ Drive        ┆ Cars         ┆          ┆ 00:00:00     │\n",
      "│ Dodge      ┆ B150/B250    ┆ Automatic    ┆ Rear-Wheel   ┆ Vans         ┆ Regular  ┆ 2013-01-01   │\n",
      "│            ┆ Wagon 2WD    ┆ 3-spd        ┆ Drive        ┆              ┆          ┆ 00:00:00     │\n",
      "│ Subaru     ┆ Legacy AWD   ┆ Manual 5-spd ┆ 4-Wheel or   ┆ Compact Cars ┆ Premium  ┆ 2013-01-01   │\n",
      "│            ┆ Turbo        ┆              ┆ All-Wheel    ┆              ┆          ┆ 00:00:00     │\n",
      "│            ┆              ┆              ┆ Drive        ┆              ┆          ┆              │\n",
      "│ …          ┆ …            ┆ …            ┆ …            ┆ …            ┆ …        ┆ …            │\n",
      "│ Subaru     ┆ Legacy       ┆ Automatic    ┆ Front-Wheel  ┆ Compact Cars ┆ Regular  ┆ 2013-01-01   │\n",
      "│            ┆              ┆ 4-spd        ┆ Drive        ┆              ┆          ┆ 00:00:00     │\n",
      "│ Subaru     ┆ Legacy       ┆ Manual 5-spd ┆ Front-Wheel  ┆ Compact Cars ┆ Regular  ┆ 2013-01-01   │\n",
      "│            ┆              ┆              ┆ Drive        ┆              ┆          ┆ 00:00:00     │\n",
      "│ Subaru     ┆ Legacy AWD   ┆ Automatic    ┆ 4-Wheel or   ┆ Compact Cars ┆ Regular  ┆ 2013-01-01   │\n",
      "│            ┆              ┆ 4-spd        ┆ All-Wheel    ┆              ┆          ┆ 00:00:00     │\n",
      "│            ┆              ┆              ┆ Drive        ┆              ┆          ┆              │\n",
      "│ Subaru     ┆ Legacy AWD   ┆ Manual 5-spd ┆ 4-Wheel or   ┆ Compact Cars ┆ Regular  ┆ 2013-01-01   │\n",
      "│            ┆              ┆              ┆ All-Wheel    ┆              ┆          ┆ 00:00:00     │\n",
      "│            ┆              ┆              ┆ Drive        ┆              ┆          ┆              │\n",
      "│ Subaru     ┆ Legacy AWD   ┆ Automatic    ┆ 4-Wheel or   ┆ Compact Cars ┆ Premium  ┆ 2013-01-01   │\n",
      "│            ┆ Turbo        ┆ 4-spd        ┆ All-Wheel    ┆              ┆          ┆ 00:00:00     │\n",
      "│            ┆              ┆              ┆ Drive        ┆              ┆          ┆              │\n",
      "└────────────┴──────────────┴──────────────┴──────────────┴──────────────┴──────────┴──────────────┘\n"
     ]
    }
   ],
   "source": [
    "# Select Coluns\n",
    "print(\n",
    "    (\n",
    "        df.select(pl.col(cols))\n",
    "      .select(pl.col(pl.String))\n",
    "     \n",
    "    )\n",
    ")\n",
    "\n",
    "\n",
    "\n"
   ]
  },
  {
   "cell_type": "code",
   "execution_count": 60,
   "id": "b9afb056-3b25-4605-8247-64b524f2b610",
   "metadata": {},
   "outputs": [
    {
     "name": "stdout",
     "output_type": "stream",
     "text": [
      "shape: (47_321, 15)\n",
      "┌──────┬────────────┬───────────────┬───────┬───┬───────────┬───────────────┬──────────────┬───────┐\n",
      "│ year ┆ make       ┆ model         ┆ displ ┆ … ┆ highway08 ┆ createdOn     ┆ is_automatic ┆ gears │\n",
      "│ ---  ┆ ---        ┆ ---           ┆ ---   ┆   ┆ ---       ┆ ---           ┆ ---          ┆ ---   │\n",
      "│ i16  ┆ cat        ┆ cat           ┆ f32   ┆   ┆ u8        ┆ datetime[μs]  ┆ bool         ┆ u8    │\n",
      "╞══════╪════════════╪═══════════════╪═══════╪═══╪═══════════╪═══════════════╪══════════════╪═══════╡\n",
      "│ 1985 ┆ Alfa Romeo ┆ Spider Veloce ┆ 2.0   ┆ … ┆ 25        ┆ 2013-01-01    ┆ false        ┆ 5     │\n",
      "│      ┆            ┆ 2000          ┆       ┆   ┆           ┆ 00:00:00      ┆              ┆       │\n",
      "│ 1985 ┆ Ferrari    ┆ Testarossa    ┆ 4.9   ┆ … ┆ 14        ┆ 2013-01-01    ┆ false        ┆ 5     │\n",
      "│      ┆            ┆               ┆       ┆   ┆           ┆ 00:00:00      ┆              ┆       │\n",
      "│ 1985 ┆ Dodge      ┆ Charger       ┆ 2.2   ┆ … ┆ 33        ┆ 2013-01-01    ┆ false        ┆ 5     │\n",
      "│      ┆            ┆               ┆       ┆   ┆           ┆ 00:00:00      ┆              ┆       │\n",
      "│ 1985 ┆ Dodge      ┆ B150/B250     ┆ 5.2   ┆ … ┆ 12        ┆ 2013-01-01    ┆ true         ┆ 3     │\n",
      "│      ┆            ┆ Wagon 2WD     ┆       ┆   ┆           ┆ 00:00:00      ┆              ┆       │\n",
      "│ 1993 ┆ Subaru     ┆ Legacy AWD    ┆ 2.2   ┆ … ┆ 23        ┆ 2013-01-01    ┆ false        ┆ 5     │\n",
      "│      ┆            ┆ Turbo         ┆       ┆   ┆           ┆ 00:00:00      ┆              ┆       │\n",
      "│ …    ┆ …          ┆ …             ┆ …     ┆ … ┆ …         ┆ …             ┆ …            ┆ …     │\n",
      "│ 1993 ┆ Subaru     ┆ Legacy        ┆ 2.2   ┆ … ┆ 26        ┆ 2013-01-01    ┆ true         ┆ 4     │\n",
      "│      ┆            ┆               ┆       ┆   ┆           ┆ 00:00:00      ┆              ┆       │\n",
      "│ 1993 ┆ Subaru     ┆ Legacy        ┆ 2.2   ┆ … ┆ 28        ┆ 2013-01-01    ┆ false        ┆ 5     │\n",
      "│      ┆            ┆               ┆       ┆   ┆           ┆ 00:00:00      ┆              ┆       │\n",
      "│ 1993 ┆ Subaru     ┆ Legacy AWD    ┆ 2.2   ┆ … ┆ 24        ┆ 2013-01-01    ┆ true         ┆ 4     │\n",
      "│      ┆            ┆               ┆       ┆   ┆           ┆ 00:00:00      ┆              ┆       │\n",
      "│ 1993 ┆ Subaru     ┆ Legacy AWD    ┆ 2.2   ┆ … ┆ 24        ┆ 2013-01-01    ┆ false        ┆ 5     │\n",
      "│      ┆            ┆               ┆       ┆   ┆           ┆ 00:00:00      ┆              ┆       │\n",
      "│ 1993 ┆ Subaru     ┆ Legacy AWD    ┆ 2.2   ┆ … ┆ 21        ┆ 2013-01-01    ┆ true         ┆ 4     │\n",
      "│      ┆            ┆ Turbo         ┆       ┆   ┆           ┆ 00:00:00      ┆              ┆       │\n",
      "└──────┴────────────┴───────────────┴───────┴───┴───────────┴───────────────┴──────────────┴───────┘\n"
     ]
    }
   ],
   "source": [
    "# Based on the above result seemt that All the string columns can be Categorical \n",
    "# but the createdOn is a datetime column\n",
    "\n",
    "# Check the is_automatic and gears columns addition\n",
    "\n",
    "cols = ['year', 'make', 'model', 'displ', 'cylinders', 'trany', 'drive', 'VClass', 'fuelType', 'barrels08', 'city08', 'highway08','createdOn']\n",
    "unsigned_col = ['cylinders', 'city08', 'highway08']\n",
    "float_col = ['displ', 'barrels08']\n",
    "categorical_col = ['make', 'model', 'trany','drive', 'VClass', 'fuelType']\n",
    "\n",
    "print(\n",
    "    (\n",
    "        df.select(cols)\n",
    "        .with_columns(pl.col(unsigned_col).cast(pl.UInt8),\n",
    "                      pl.col('year').cast(pl.Int16),\n",
    "                      pl.col(float_col).cast(pl.Float32),\n",
    "                      pl.col(categorical_col).cast(pl.Categorical),\n",
    "                      pl.col('createdOn').str.to_datetime('%a %b %d %H:%M:%S %Z %Y'),\n",
    "                      is_automatic = pl.col(\"trany\")\n",
    "                          .str.contains(\"Automatic\")\n",
    "                          .fill_null(True),\n",
    "                      gears= pl.col(\"trany\").str.extract(r\"(\\d+)\")\n",
    "                          .fill_null(6)\n",
    "                          .cast(pl.UInt8)\n",
    "                      )\n",
    "                     )\n",
    ")\n",
    "\n",
    "\n"
   ]
  },
  {
   "cell_type": "code",
   "execution_count": 63,
   "id": "83705ee5-db7e-4ecd-8a72-243691634b3e",
   "metadata": {},
   "outputs": [],
   "source": [
    "# We can put everything inside a function for reusability\n",
    "\n",
    "def get_properDF(df):\n",
    "    cols = ['year', 'make', 'model', 'displ', 'cylinders', 'trany', 'drive', 'VClass', 'fuelType', 'barrels08', 'city08', 'highway08','createdOn']\n",
    "    unsigned_col = ['cylinders', 'city08', 'highway08']\n",
    "    float_col = ['displ', 'barrels08']\n",
    "    categorical_col = ['make', 'model', 'trany','drive', 'VClass', 'fuelType']\n",
    "    return (\n",
    "            df.select(cols)\n",
    "            .with_columns(pl.col(unsigned_col).cast(pl.UInt8),\n",
    "                          pl.col('year').cast(pl.Int16),\n",
    "                          pl.col(float_col).cast(pl.Float32),\n",
    "                          pl.col(categorical_col).cast(pl.Categorical),\n",
    "                          pl.col('createdOn').str.to_datetime('%a %b %d %H:%M:%S %Z %Y'),\n",
    "                          is_automatic = pl.col(\"trany\")\n",
    "                              .str.contains(\"Automatic\")\n",
    "                              .fill_null(True),\n",
    "                          gears= pl.col(\"trany\").str.extract(r\"(\\d+)\")\n",
    "                              .fill_null(6)\n",
    "                              .cast(pl.UInt8)\n",
    "                          )\n",
    "                         )"
   ]
  },
  {
   "cell_type": "code",
   "execution_count": 64,
   "id": "97d5c2c0-196e-41b6-a533-c6a1a29a7c8a",
   "metadata": {},
   "outputs": [
    {
     "data": {
      "text/html": [
       "<div><style>\n",
       ".dataframe > thead > tr,\n",
       ".dataframe > tbody > tr {\n",
       "  text-align: right;\n",
       "  white-space: pre-wrap;\n",
       "}\n",
       "</style>\n",
       "<small>shape: (47_321, 15)</small><table border=\"1\" class=\"dataframe\"><thead><tr><th>year</th><th>make</th><th>model</th><th>displ</th><th>cylinders</th><th>trany</th><th>drive</th><th>VClass</th><th>fuelType</th><th>barrels08</th><th>city08</th><th>highway08</th><th>createdOn</th><th>is_automatic</th><th>gears</th></tr><tr><td>i16</td><td>cat</td><td>cat</td><td>f32</td><td>u8</td><td>cat</td><td>cat</td><td>cat</td><td>cat</td><td>f32</td><td>u8</td><td>u8</td><td>datetime[μs]</td><td>bool</td><td>u8</td></tr></thead><tbody><tr><td>1985</td><td>&quot;Alfa Romeo&quot;</td><td>&quot;Spider Veloce …</td><td>2.0</td><td>4</td><td>&quot;Manual 5-spd&quot;</td><td>&quot;Rear-Wheel Dri…</td><td>&quot;Two Seaters&quot;</td><td>&quot;Regular&quot;</td><td>14.167143</td><td>19</td><td>25</td><td>2013-01-01 00:00:00</td><td>false</td><td>5</td></tr><tr><td>1985</td><td>&quot;Ferrari&quot;</td><td>&quot;Testarossa&quot;</td><td>4.9</td><td>12</td><td>&quot;Manual 5-spd&quot;</td><td>&quot;Rear-Wheel Dri…</td><td>&quot;Two Seaters&quot;</td><td>&quot;Regular&quot;</td><td>27.046364</td><td>9</td><td>14</td><td>2013-01-01 00:00:00</td><td>false</td><td>5</td></tr><tr><td>1985</td><td>&quot;Dodge&quot;</td><td>&quot;Charger&quot;</td><td>2.2</td><td>4</td><td>&quot;Manual 5-spd&quot;</td><td>&quot;Front-Wheel Dr…</td><td>&quot;Subcompact Car…</td><td>&quot;Regular&quot;</td><td>11.018888</td><td>23</td><td>33</td><td>2013-01-01 00:00:00</td><td>false</td><td>5</td></tr><tr><td>1985</td><td>&quot;Dodge&quot;</td><td>&quot;B150/B250 Wago…</td><td>5.2</td><td>8</td><td>&quot;Automatic 3-sp…</td><td>&quot;Rear-Wheel Dri…</td><td>&quot;Vans&quot;</td><td>&quot;Regular&quot;</td><td>27.046364</td><td>10</td><td>12</td><td>2013-01-01 00:00:00</td><td>true</td><td>3</td></tr><tr><td>1993</td><td>&quot;Subaru&quot;</td><td>&quot;Legacy AWD Tur…</td><td>2.2</td><td>4</td><td>&quot;Manual 5-spd&quot;</td><td>&quot;4-Wheel or All…</td><td>&quot;Compact Cars&quot;</td><td>&quot;Premium&quot;</td><td>15.658422</td><td>17</td><td>23</td><td>2013-01-01 00:00:00</td><td>false</td><td>5</td></tr><tr><td>&hellip;</td><td>&hellip;</td><td>&hellip;</td><td>&hellip;</td><td>&hellip;</td><td>&hellip;</td><td>&hellip;</td><td>&hellip;</td><td>&hellip;</td><td>&hellip;</td><td>&hellip;</td><td>&hellip;</td><td>&hellip;</td><td>&hellip;</td><td>&hellip;</td></tr><tr><td>1993</td><td>&quot;Subaru&quot;</td><td>&quot;Legacy&quot;</td><td>2.2</td><td>4</td><td>&quot;Automatic 4-sp…</td><td>&quot;Front-Wheel Dr…</td><td>&quot;Compact Cars&quot;</td><td>&quot;Regular&quot;</td><td>13.523182</td><td>19</td><td>26</td><td>2013-01-01 00:00:00</td><td>true</td><td>4</td></tr><tr><td>1993</td><td>&quot;Subaru&quot;</td><td>&quot;Legacy&quot;</td><td>2.2</td><td>4</td><td>&quot;Manual 5-spd&quot;</td><td>&quot;Front-Wheel Dr…</td><td>&quot;Compact Cars&quot;</td><td>&quot;Regular&quot;</td><td>12.935218</td><td>20</td><td>28</td><td>2013-01-01 00:00:00</td><td>false</td><td>5</td></tr><tr><td>1993</td><td>&quot;Subaru&quot;</td><td>&quot;Legacy AWD&quot;</td><td>2.2</td><td>4</td><td>&quot;Automatic 4-sp…</td><td>&quot;4-Wheel or All…</td><td>&quot;Compact Cars&quot;</td><td>&quot;Regular&quot;</td><td>14.167143</td><td>18</td><td>24</td><td>2013-01-01 00:00:00</td><td>true</td><td>4</td></tr><tr><td>1993</td><td>&quot;Subaru&quot;</td><td>&quot;Legacy AWD&quot;</td><td>2.2</td><td>4</td><td>&quot;Manual 5-spd&quot;</td><td>&quot;4-Wheel or All…</td><td>&quot;Compact Cars&quot;</td><td>&quot;Regular&quot;</td><td>14.167143</td><td>18</td><td>24</td><td>2013-01-01 00:00:00</td><td>false</td><td>5</td></tr><tr><td>1993</td><td>&quot;Subaru&quot;</td><td>&quot;Legacy AWD Tur…</td><td>2.2</td><td>4</td><td>&quot;Automatic 4-sp…</td><td>&quot;4-Wheel or All…</td><td>&quot;Compact Cars&quot;</td><td>&quot;Premium&quot;</td><td>16.528334</td><td>16</td><td>21</td><td>2013-01-01 00:00:00</td><td>true</td><td>4</td></tr></tbody></table></div>"
      ],
      "text/plain": [
       "shape: (47_321, 15)\n",
       "┌──────┬────────────┬───────────────┬───────┬───┬───────────┬───────────────┬──────────────┬───────┐\n",
       "│ year ┆ make       ┆ model         ┆ displ ┆ … ┆ highway08 ┆ createdOn     ┆ is_automatic ┆ gears │\n",
       "│ ---  ┆ ---        ┆ ---           ┆ ---   ┆   ┆ ---       ┆ ---           ┆ ---          ┆ ---   │\n",
       "│ i16  ┆ cat        ┆ cat           ┆ f32   ┆   ┆ u8        ┆ datetime[μs]  ┆ bool         ┆ u8    │\n",
       "╞══════╪════════════╪═══════════════╪═══════╪═══╪═══════════╪═══════════════╪══════════════╪═══════╡\n",
       "│ 1985 ┆ Alfa Romeo ┆ Spider Veloce ┆ 2.0   ┆ … ┆ 25        ┆ 2013-01-01    ┆ false        ┆ 5     │\n",
       "│      ┆            ┆ 2000          ┆       ┆   ┆           ┆ 00:00:00      ┆              ┆       │\n",
       "│ 1985 ┆ Ferrari    ┆ Testarossa    ┆ 4.9   ┆ … ┆ 14        ┆ 2013-01-01    ┆ false        ┆ 5     │\n",
       "│      ┆            ┆               ┆       ┆   ┆           ┆ 00:00:00      ┆              ┆       │\n",
       "│ 1985 ┆ Dodge      ┆ Charger       ┆ 2.2   ┆ … ┆ 33        ┆ 2013-01-01    ┆ false        ┆ 5     │\n",
       "│      ┆            ┆               ┆       ┆   ┆           ┆ 00:00:00      ┆              ┆       │\n",
       "│ 1985 ┆ Dodge      ┆ B150/B250     ┆ 5.2   ┆ … ┆ 12        ┆ 2013-01-01    ┆ true         ┆ 3     │\n",
       "│      ┆            ┆ Wagon 2WD     ┆       ┆   ┆           ┆ 00:00:00      ┆              ┆       │\n",
       "│ 1993 ┆ Subaru     ┆ Legacy AWD    ┆ 2.2   ┆ … ┆ 23        ┆ 2013-01-01    ┆ false        ┆ 5     │\n",
       "│      ┆            ┆ Turbo         ┆       ┆   ┆           ┆ 00:00:00      ┆              ┆       │\n",
       "│ …    ┆ …          ┆ …             ┆ …     ┆ … ┆ …         ┆ …             ┆ …            ┆ …     │\n",
       "│ 1993 ┆ Subaru     ┆ Legacy        ┆ 2.2   ┆ … ┆ 26        ┆ 2013-01-01    ┆ true         ┆ 4     │\n",
       "│      ┆            ┆               ┆       ┆   ┆           ┆ 00:00:00      ┆              ┆       │\n",
       "│ 1993 ┆ Subaru     ┆ Legacy        ┆ 2.2   ┆ … ┆ 28        ┆ 2013-01-01    ┆ false        ┆ 5     │\n",
       "│      ┆            ┆               ┆       ┆   ┆           ┆ 00:00:00      ┆              ┆       │\n",
       "│ 1993 ┆ Subaru     ┆ Legacy AWD    ┆ 2.2   ┆ … ┆ 24        ┆ 2013-01-01    ┆ true         ┆ 4     │\n",
       "│      ┆            ┆               ┆       ┆   ┆           ┆ 00:00:00      ┆              ┆       │\n",
       "│ 1993 ┆ Subaru     ┆ Legacy AWD    ┆ 2.2   ┆ … ┆ 24        ┆ 2013-01-01    ┆ false        ┆ 5     │\n",
       "│      ┆            ┆               ┆       ┆   ┆           ┆ 00:00:00      ┆              ┆       │\n",
       "│ 1993 ┆ Subaru     ┆ Legacy AWD    ┆ 2.2   ┆ … ┆ 21        ┆ 2013-01-01    ┆ true         ┆ 4     │\n",
       "│      ┆            ┆ Turbo         ┆       ┆   ┆           ┆ 00:00:00      ┆              ┆       │\n",
       "└──────┴────────────┴───────────────┴───────┴───┴───────────┴───────────────┴──────────────┴───────┘"
      ]
     },
     "execution_count": 64,
     "metadata": {},
     "output_type": "execute_result"
    }
   ],
   "source": [
    "get_properDF(df)"
   ]
  },
  {
   "cell_type": "code",
   "execution_count": null,
   "id": "08f971e1-2a4a-40af-b883-0e07b81669d1",
   "metadata": {},
   "outputs": [],
   "source": []
  },
  {
   "cell_type": "code",
   "execution_count": null,
   "id": "e1f68544-147a-4c82-a10c-cd7174564f41",
   "metadata": {},
   "outputs": [],
   "source": []
  },
  {
   "cell_type": "code",
   "execution_count": null,
   "id": "3c47c5f3-5a74-4aba-9e02-c84734f29a7f",
   "metadata": {},
   "outputs": [],
   "source": []
  },
  {
   "cell_type": "code",
   "execution_count": null,
   "id": "f7e66a39-a7f8-4428-82f5-f21096ee4307",
   "metadata": {},
   "outputs": [],
   "source": []
  },
  {
   "cell_type": "code",
   "execution_count": null,
   "id": "5bb784bf-720b-427c-8051-f1e547eae25c",
   "metadata": {},
   "outputs": [],
   "source": []
  },
  {
   "cell_type": "code",
   "execution_count": null,
   "id": "f22a3ffa-243d-489d-b3df-bd92232134f1",
   "metadata": {},
   "outputs": [],
   "source": []
  },
  {
   "cell_type": "code",
   "execution_count": null,
   "id": "774e8348-8a3e-44dc-bee5-f6a05a8bf676",
   "metadata": {},
   "outputs": [],
   "source": []
  },
  {
   "cell_type": "code",
   "execution_count": null,
   "id": "2c938c5d-1a54-4ec0-a87b-e64f8f9219e1",
   "metadata": {},
   "outputs": [],
   "source": []
  },
  {
   "cell_type": "code",
   "execution_count": null,
   "id": "c388195a-73ad-4589-8a6b-d3e3f158fe78",
   "metadata": {},
   "outputs": [],
   "source": []
  },
  {
   "cell_type": "code",
   "execution_count": null,
   "id": "a580d6da-050c-4235-861d-6ba3f0a6b776",
   "metadata": {},
   "outputs": [],
   "source": []
  },
  {
   "cell_type": "code",
   "execution_count": null,
   "id": "ee077993-a02f-4932-9908-2f0ab2417575",
   "metadata": {},
   "outputs": [],
   "source": []
  },
  {
   "cell_type": "code",
   "execution_count": null,
   "id": "1c429f9c-169c-4068-9b28-f5d522acf814",
   "metadata": {},
   "outputs": [],
   "source": []
  },
  {
   "cell_type": "code",
   "execution_count": null,
   "id": "b48dba6d-da31-4d68-bf6b-85bbd5e59e7f",
   "metadata": {},
   "outputs": [],
   "source": []
  }
 ],
 "metadata": {
  "kernelspec": {
   "display_name": "Python 3 (ipykernel)",
   "language": "python",
   "name": "python3"
  },
  "language_info": {
   "codemirror_mode": {
    "name": "ipython",
    "version": 3
   },
   "file_extension": ".py",
   "mimetype": "text/x-python",
   "name": "python",
   "nbconvert_exporter": "python",
   "pygments_lexer": "ipython3",
   "version": "3.11.7"
  }
 },
 "nbformat": 4,
 "nbformat_minor": 5
}
